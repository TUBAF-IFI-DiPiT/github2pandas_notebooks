{
 "cells": [
  {
   "cell_type": "code",
   "execution_count": 24,
   "metadata": {},
   "outputs": [],
   "source": [
    "from github2pandas.github2pandas import GitHub2Pandas\n",
    "from github2pandas.workflows import Workflows\n",
    "from github2pandas.version import Version\n",
    "from pathlib import Path\n",
    "import os\n",
    "import logging\n",
    "import pandas as pd"
   ]
  },
  {
   "cell_type": "markdown",
   "metadata": {},
   "source": [
    "# Evaluate Workflow Data\n",
    "\n",
    "-----------------------------------------------------------------\n",
    "This example illustrates the aggregation of workflow (actions) data using the `github2pandas` repository. Here, all workflows are read out, filtered and displayed in terms of success or failure. "
   ]
  },
  {
   "cell_type": "code",
   "execution_count": 25,
   "metadata": {},
   "outputs": [],
   "source": [
    "git_repo_name = \"github2pandas\"\n",
    "git_repo_owner = \"TUBAF-IFI-DiPiT\"\n",
    "\n",
    "data_root_dir = Path(\"data\")\n",
    "repo_data_dir = Path(data_root_dir, git_repo_owner, git_repo_name)"
   ]
  },
  {
   "cell_type": "code",
   "execution_count": 26,
   "metadata": {},
   "outputs": [],
   "source": [
    "workflows_path = Path.joinpath(repo_data_dir, Workflows.Files.DATA_DIR)\n",
    "df_workflows = GitHub2Pandas.get_pandas_data_frame(workflows_path, Workflows.Files.WORKFLOWS)\n",
    "df_runs = GitHub2Pandas.get_pandas_data_frame(workflows_path, Workflows.Files.RUNS)"
   ]
  },
  {
   "cell_type": "code",
   "execution_count": 27,
   "metadata": {},
   "outputs": [
    {
     "data": {
      "text/html": [
       "<div>\n",
       "<style scoped>\n",
       "    .dataframe tbody tr th:only-of-type {\n",
       "        vertical-align: middle;\n",
       "    }\n",
       "\n",
       "    .dataframe tbody tr th {\n",
       "        vertical-align: top;\n",
       "    }\n",
       "\n",
       "    .dataframe thead th {\n",
       "        text-align: right;\n",
       "    }\n",
       "</style>\n",
       "<table border=\"1\" class=\"dataframe\">\n",
       "  <thead>\n",
       "    <tr style=\"text-align: right;\">\n",
       "      <th></th>\n",
       "      <th>id</th>\n",
       "      <th>name</th>\n",
       "      <th>created_at</th>\n",
       "      <th>updated_at</th>\n",
       "      <th>state</th>\n",
       "    </tr>\n",
       "  </thead>\n",
       "  <tbody>\n",
       "    <tr>\n",
       "      <th>0</th>\n",
       "      <td>6245620</td>\n",
       "      <td>RunTests</td>\n",
       "      <td>2021-02-28 17:31:08</td>\n",
       "      <td>2021-03-08 08:26:16</td>\n",
       "      <td>active</td>\n",
       "    </tr>\n",
       "  </tbody>\n",
       "</table>\n",
       "</div>"
      ],
      "text/plain": [
       "        id      name          created_at          updated_at   state\n",
       "0  6245620  RunTests 2021-02-28 17:31:08 2021-03-08 08:26:16  active"
      ]
     },
     "execution_count": 27,
     "metadata": {},
     "output_type": "execute_result"
    }
   ],
   "source": [
    "df_workflows"
   ]
  },
  {
   "cell_type": "code",
   "execution_count": 28,
   "metadata": {},
   "outputs": [
    {
     "data": {
      "text/html": [
       "<div>\n",
       "<style scoped>\n",
       "    .dataframe tbody tr th:only-of-type {\n",
       "        vertical-align: middle;\n",
       "    }\n",
       "\n",
       "    .dataframe tbody tr th {\n",
       "        vertical-align: top;\n",
       "    }\n",
       "\n",
       "    .dataframe thead th {\n",
       "        text-align: right;\n",
       "    }\n",
       "</style>\n",
       "<table border=\"1\" class=\"dataframe\">\n",
       "  <thead>\n",
       "    <tr style=\"text-align: right;\">\n",
       "      <th></th>\n",
       "      <th>workflow_id</th>\n",
       "      <th>id</th>\n",
       "      <th>commit_sha</th>\n",
       "      <th>pull_requests</th>\n",
       "      <th>state</th>\n",
       "      <th>event</th>\n",
       "      <th>conclusion</th>\n",
       "      <th>created_at</th>\n",
       "      <th>updated_at</th>\n",
       "    </tr>\n",
       "  </thead>\n",
       "  <tbody>\n",
       "    <tr>\n",
       "      <th>0</th>\n",
       "      <td>6245620</td>\n",
       "      <td>1915206052</td>\n",
       "      <td>d414e0863345d65678b880272b158b9b9c6910d2</td>\n",
       "      <td>[]</td>\n",
       "      <td>completed</td>\n",
       "      <td>push</td>\n",
       "      <td>success</td>\n",
       "      <td>2022-03-01 09:07:37</td>\n",
       "      <td>2022-03-01 09:15:29</td>\n",
       "    </tr>\n",
       "    <tr>\n",
       "      <th>1</th>\n",
       "      <td>6245620</td>\n",
       "      <td>1914808609</td>\n",
       "      <td>9dfdae56c778940adb39f8da5db7a3b2c88022d9</td>\n",
       "      <td>[]</td>\n",
       "      <td>completed</td>\n",
       "      <td>push</td>\n",
       "      <td>success</td>\n",
       "      <td>2022-03-01 07:33:02</td>\n",
       "      <td>2022-03-01 07:39:42</td>\n",
       "    </tr>\n",
       "    <tr>\n",
       "      <th>2</th>\n",
       "      <td>6245620</td>\n",
       "      <td>1914733676</td>\n",
       "      <td>bdcc237df4230002948ae53d60e5722b0820cc7e</td>\n",
       "      <td>[]</td>\n",
       "      <td>completed</td>\n",
       "      <td>push</td>\n",
       "      <td>failure</td>\n",
       "      <td>2022-03-01 07:13:30</td>\n",
       "      <td>2022-03-01 07:16:33</td>\n",
       "    </tr>\n",
       "    <tr>\n",
       "      <th>3</th>\n",
       "      <td>6245620</td>\n",
       "      <td>1914639513</td>\n",
       "      <td>92cb2fc7083fe23b6985ae8bd085ca370dc42334</td>\n",
       "      <td>[]</td>\n",
       "      <td>completed</td>\n",
       "      <td>push</td>\n",
       "      <td>success</td>\n",
       "      <td>2022-03-01 06:48:16</td>\n",
       "      <td>2022-03-01 06:54:58</td>\n",
       "    </tr>\n",
       "    <tr>\n",
       "      <th>4</th>\n",
       "      <td>6245620</td>\n",
       "      <td>1910368483</td>\n",
       "      <td>e4f86f73e077bb27200a549b598ab29b227d9d16</td>\n",
       "      <td>[]</td>\n",
       "      <td>completed</td>\n",
       "      <td>push</td>\n",
       "      <td>failure</td>\n",
       "      <td>2022-02-28 13:03:01</td>\n",
       "      <td>2022-02-28 13:11:27</td>\n",
       "    </tr>\n",
       "  </tbody>\n",
       "</table>\n",
       "</div>"
      ],
      "text/plain": [
       "   workflow_id          id                                commit_sha  \\\n",
       "0      6245620  1915206052  d414e0863345d65678b880272b158b9b9c6910d2   \n",
       "1      6245620  1914808609  9dfdae56c778940adb39f8da5db7a3b2c88022d9   \n",
       "2      6245620  1914733676  bdcc237df4230002948ae53d60e5722b0820cc7e   \n",
       "3      6245620  1914639513  92cb2fc7083fe23b6985ae8bd085ca370dc42334   \n",
       "4      6245620  1910368483  e4f86f73e077bb27200a549b598ab29b227d9d16   \n",
       "\n",
       "  pull_requests      state event conclusion          created_at  \\\n",
       "0            []  completed  push    success 2022-03-01 09:07:37   \n",
       "1            []  completed  push    success 2022-03-01 07:33:02   \n",
       "2            []  completed  push    failure 2022-03-01 07:13:30   \n",
       "3            []  completed  push    success 2022-03-01 06:48:16   \n",
       "4            []  completed  push    failure 2022-02-28 13:03:01   \n",
       "\n",
       "           updated_at  \n",
       "0 2022-03-01 09:15:29  \n",
       "1 2022-03-01 07:39:42  \n",
       "2 2022-03-01 07:16:33  \n",
       "3 2022-03-01 06:54:58  \n",
       "4 2022-02-28 13:11:27  "
      ]
     },
     "execution_count": 28,
     "metadata": {},
     "output_type": "execute_result"
    }
   ],
   "source": [
    "df_runs.head(5)"
   ]
  },
  {
   "cell_type": "markdown",
   "metadata": {},
   "source": [
    "## Examples\n",
    "### Question 1: Do we generate more failures while working on weekend?"
   ]
  },
  {
   "cell_type": "code",
   "execution_count": 29,
   "metadata": {},
   "outputs": [
    {
     "data": {
      "text/html": [
       "<div>\n",
       "<style scoped>\n",
       "    .dataframe tbody tr th:only-of-type {\n",
       "        vertical-align: middle;\n",
       "    }\n",
       "\n",
       "    .dataframe tbody tr th {\n",
       "        vertical-align: top;\n",
       "    }\n",
       "\n",
       "    .dataframe thead th {\n",
       "        text-align: right;\n",
       "    }\n",
       "</style>\n",
       "<table border=\"1\" class=\"dataframe\">\n",
       "  <thead>\n",
       "    <tr style=\"text-align: right;\">\n",
       "      <th>conclusion</th>\n",
       "      <th>failure</th>\n",
       "      <th>success</th>\n",
       "      <th>ratio</th>\n",
       "    </tr>\n",
       "    <tr>\n",
       "      <th>day_of_week</th>\n",
       "      <th></th>\n",
       "      <th></th>\n",
       "      <th></th>\n",
       "    </tr>\n",
       "  </thead>\n",
       "  <tbody>\n",
       "    <tr>\n",
       "      <th>Friday</th>\n",
       "      <td>7.0</td>\n",
       "      <td>17.0</td>\n",
       "      <td>0.291667</td>\n",
       "    </tr>\n",
       "    <tr>\n",
       "      <th>Thursday</th>\n",
       "      <td>11.0</td>\n",
       "      <td>19.0</td>\n",
       "      <td>0.366667</td>\n",
       "    </tr>\n",
       "    <tr>\n",
       "      <th>Monday</th>\n",
       "      <td>18.0</td>\n",
       "      <td>26.0</td>\n",
       "      <td>0.409091</td>\n",
       "    </tr>\n",
       "    <tr>\n",
       "      <th>Tuesday</th>\n",
       "      <td>14.0</td>\n",
       "      <td>12.0</td>\n",
       "      <td>0.538462</td>\n",
       "    </tr>\n",
       "    <tr>\n",
       "      <th>Saturday</th>\n",
       "      <td>3.0</td>\n",
       "      <td>2.0</td>\n",
       "      <td>0.600000</td>\n",
       "    </tr>\n",
       "    <tr>\n",
       "      <th>Wednesday</th>\n",
       "      <td>14.0</td>\n",
       "      <td>8.0</td>\n",
       "      <td>0.636364</td>\n",
       "    </tr>\n",
       "    <tr>\n",
       "      <th>Sunday</th>\n",
       "      <td>NaN</td>\n",
       "      <td>10.0</td>\n",
       "      <td>NaN</td>\n",
       "    </tr>\n",
       "  </tbody>\n",
       "</table>\n",
       "</div>"
      ],
      "text/plain": [
       "conclusion   failure  success     ratio\n",
       "day_of_week                            \n",
       "Friday           7.0     17.0  0.291667\n",
       "Thursday        11.0     19.0  0.366667\n",
       "Monday          18.0     26.0  0.409091\n",
       "Tuesday         14.0     12.0  0.538462\n",
       "Saturday         3.0      2.0  0.600000\n",
       "Wednesday       14.0      8.0  0.636364\n",
       "Sunday           NaN     10.0       NaN"
      ]
     },
     "execution_count": 29,
     "metadata": {},
     "output_type": "execute_result"
    }
   ],
   "source": [
    "df_runs['day_of_week'] = df_runs['created_at'].dt.day_name()\n",
    "\n",
    "results = df_runs.groupby(['day_of_week', 'conclusion']).commit_sha.count().unstack()\n",
    "results['ratio'] = results['failure'] / (results['failure'] + results['success'])\n",
    "\n",
    "results.sort_values(by=['ratio'])"
   ]
  },
  {
   "cell_type": "markdown",
   "metadata": {},
   "source": [
    "_Result: Best results on Fridays and no failures on Sundays! Impressive!_"
   ]
  },
  {
   "cell_type": "markdown",
   "metadata": {},
   "source": [
    "### Question 2: What happens during the workflow run?\n",
    "\n",
    "Let's take a closer view on log files of a specific failed Action run."
   ]
  },
  {
   "cell_type": "code",
   "execution_count": 55,
   "metadata": {},
   "outputs": [
    {
     "data": {
      "text/plain": [
       "workflow_id                                       6245620\n",
       "id                                             1914733676\n",
       "commit_sha       bdcc237df4230002948ae53d60e5722b0820cc7e\n",
       "pull_requests                                          []\n",
       "state                                           completed\n",
       "event                                                push\n",
       "conclusion                                        failure\n",
       "created_at                            2022-03-01 07:13:30\n",
       "updated_at                            2022-03-01 07:16:33\n",
       "day_of_week                                       Tuesday\n",
       "Name: 2, dtype: object"
      ]
     },
     "execution_count": 55,
     "metadata": {},
     "output_type": "execute_result"
    }
   ],
   "source": [
    "workflow_run_id = df_runs.iloc[2].id\n",
    "df_runs.iloc[2]"
   ]
  },
  {
   "cell_type": "code",
   "execution_count": 56,
   "metadata": {},
   "outputs": [],
   "source": [
    "github_token = os.environ['GITHUB_API_TOKEN']\n",
    "log_level = logging.DEBUG\n",
    "github2pandas = GitHub2Pandas(github_token, data_root_dir, log_level=log_level)\n",
    "repo = github2pandas.get_repo(git_repo_owner, git_repo_name)"
   ]
  },
  {
   "cell_type": "code",
   "execution_count": 57,
   "metadata": {},
   "outputs": [
    {
     "data": {
      "text/plain": [
       "11"
      ]
     },
     "execution_count": 57,
     "metadata": {},
     "output_type": "execute_result"
    }
   ],
   "source": [
    "Workflows.download_workflow_log_files(repo=repo,\n",
    "                                  github_token=github_token,\n",
    "                                  workflow_run_id=workflow_run_id,\n",
    "                                  data_root_dir=repo_data_dir)"
   ]
  },
  {
   "cell_type": "markdown",
   "metadata": {},
   "source": [
    "The workflow logs are stored in the data folder of the project now."
   ]
  },
  {
   "cell_type": "code",
   "execution_count": 58,
   "metadata": {},
   "outputs": [
    {
     "name": "stdout",
     "output_type": "stream",
     "text": [
      "'12_Post Run actionscheckout@v2.txt'  '3_Set up Python 3.8.txt'\r\n",
      "'13_Complete job.txt'\t\t      '4_Prepare python environment.txt'\r\n",
      "'1_Set up job.txt'\t\t      '5_Install dependencies.txt'\r\n",
      "'2_Run actionscheckout@v2.txt'\t      '6_Run tests.txt'\r\n"
     ]
    }
   ],
   "source": [
    "!ls ./data/TUBAF-IFI-DiPiT/github2pandas/Workflows/1914733676/extractData"
   ]
  },
  {
   "cell_type": "code",
   "execution_count": 59,
   "metadata": {},
   "outputs": [
    {
     "name": "stdout",
     "output_type": "stream",
     "text": [
      "2022-03-01T07:16:28.4184099Z     for commit in tqdm(commits, desc='Serial'):\r",
      "\r\n",
      "2022-03-01T07:16:28.4184476Z   File \"/home/runner/work/github2pandas/github2pandas/src/github2pandas/version.py\", line 306, in __init__\r",
      "\r\n",
      "2022-03-01T07:16:28.4184819Z     return core.progress_bar(iterable, f\"Version {desc}:\")\r",
      "\r\n",
      "2022-03-01T07:16:28.4185137Z NameError: name 'core' is not defined\r",
      "\r\n",
      "2022-03-01T07:16:28.4185277Z \r",
      "\r\n",
      "2022-03-01T07:16:28.4185497Z ----------------------------------------------------------------------\r",
      "\r\n",
      "2022-03-01T07:16:28.4185750Z Ran 19 tests in 82.935s\r",
      "\r\n",
      "2022-03-01T07:16:28.4185875Z \r",
      "\r\n",
      "2022-03-01T07:16:28.4185967Z FAILED (errors=2, skipped=1)\r",
      "\r\n",
      "2022-03-01T07:16:28.6086981Z ##[error]Process completed with exit code 1.\r",
      "\r\n"
     ]
    }
   ],
   "source": [
    "!tail -n 10 ./data/TUBAF-IFI-DiPiT/github2pandas/Workflows/1914733676/extractData/\"6_Run tests.txt\""
   ]
  },
  {
   "cell_type": "markdown",
   "metadata": {},
   "source": [
    "### Questions 3: Check who prepared the workflows\n",
    "\n",
    "For this request we have to merge Version data with Workflow information. \n",
    "\n",
    "1. Prepare commit, edits and workflow dataframes\n",
    "2. Extract commits adressing workflow-folder `.github/workflow/` from edits\n",
    "3. Identify authors integrating workflows"
   ]
  },
  {
   "cell_type": "code",
   "execution_count": 11,
   "metadata": {},
   "outputs": [],
   "source": [
    "versions_path = Path.joinpath(repo_data_dir, Version.Files.DATA_DIR)\n",
    "df_edits = GitHub2Pandas.get_pandas_data_frame(versions_path, Version.Files.EDITS)\n",
    "df_commits = GitHub2Pandas.get_pandas_data_frame(versions_path, Version.Files.COMMITS)"
   ]
  },
  {
   "cell_type": "code",
   "execution_count": 12,
   "metadata": {},
   "outputs": [
    {
     "data": {
      "text/html": [
       "<div>\n",
       "<style scoped>\n",
       "    .dataframe tbody tr th:only-of-type {\n",
       "        vertical-align: middle;\n",
       "    }\n",
       "\n",
       "    .dataframe tbody tr th {\n",
       "        vertical-align: top;\n",
       "    }\n",
       "\n",
       "    .dataframe thead th {\n",
       "        text-align: right;\n",
       "    }\n",
       "</style>\n",
       "<table border=\"1\" class=\"dataframe\">\n",
       "  <thead>\n",
       "    <tr style=\"text-align: right;\">\n",
       "      <th></th>\n",
       "      <th>commit_sha</th>\n",
       "      <th>filename</th>\n",
       "    </tr>\n",
       "  </thead>\n",
       "  <tbody>\n",
       "    <tr>\n",
       "      <th>0</th>\n",
       "      <td>540e6691a42db08b1dc94948b418fa1ea1b7380d</td>\n",
       "      <td>python_package.yml</td>\n",
       "    </tr>\n",
       "    <tr>\n",
       "      <th>160</th>\n",
       "      <td>cf2d4124846de842f24ae1deae56a07ab7ab007b</td>\n",
       "      <td>python_package.yml</td>\n",
       "    </tr>\n",
       "    <tr>\n",
       "      <th>359</th>\n",
       "      <td>daa70ee1d1cedc8d51e06bdf88ed655bbedc75bf</td>\n",
       "      <td>python_package.yml</td>\n",
       "    </tr>\n",
       "    <tr>\n",
       "      <th>371</th>\n",
       "      <td>1bda3b56508bc47073def8d58ed41163fd0b9dcd</td>\n",
       "      <td>python_package.yml</td>\n",
       "    </tr>\n",
       "    <tr>\n",
       "      <th>1054</th>\n",
       "      <td>3c43e5af6be062bada6a5e66b4f9503a7aa8a369</td>\n",
       "      <td>python_package.yml</td>\n",
       "    </tr>\n",
       "    <tr>\n",
       "      <th>1318</th>\n",
       "      <td>d69b074d24e4419534867ce75578952f1a8ab5d3</td>\n",
       "      <td>python_package.yml</td>\n",
       "    </tr>\n",
       "    <tr>\n",
       "      <th>1321</th>\n",
       "      <td>cc01c8a7ec6d3bb3c647acfb627d7a576cac9e77</td>\n",
       "      <td>python_package.yml</td>\n",
       "    </tr>\n",
       "    <tr>\n",
       "      <th>3709</th>\n",
       "      <td>b4fdab74ec4504b6caa7c702b86f1d790a1de17a</td>\n",
       "      <td>python_package.yml</td>\n",
       "    </tr>\n",
       "    <tr>\n",
       "      <th>6301</th>\n",
       "      <td>0d1e5ad84f4737bb716aa0b718f9b8a8fd1fabb3</td>\n",
       "      <td>python_package.yml</td>\n",
       "    </tr>\n",
       "    <tr>\n",
       "      <th>33504</th>\n",
       "      <td>2143785e1b7e2e1162f6406acb4706b00ef787b4</td>\n",
       "      <td>python_package.yml</td>\n",
       "    </tr>\n",
       "  </tbody>\n",
       "</table>\n",
       "</div>"
      ],
      "text/plain": [
       "                                     commit_sha            filename\n",
       "0      540e6691a42db08b1dc94948b418fa1ea1b7380d  python_package.yml\n",
       "160    cf2d4124846de842f24ae1deae56a07ab7ab007b  python_package.yml\n",
       "359    daa70ee1d1cedc8d51e06bdf88ed655bbedc75bf  python_package.yml\n",
       "371    1bda3b56508bc47073def8d58ed41163fd0b9dcd  python_package.yml\n",
       "1054   3c43e5af6be062bada6a5e66b4f9503a7aa8a369  python_package.yml\n",
       "1318   d69b074d24e4419534867ce75578952f1a8ab5d3  python_package.yml\n",
       "1321   cc01c8a7ec6d3bb3c647acfb627d7a576cac9e77  python_package.yml\n",
       "3709   b4fdab74ec4504b6caa7c702b86f1d790a1de17a  python_package.yml\n",
       "6301   0d1e5ad84f4737bb716aa0b718f9b8a8fd1fabb3  python_package.yml\n",
       "33504  2143785e1b7e2e1162f6406acb4706b00ef787b4  python_package.yml"
      ]
     },
     "execution_count": 12,
     "metadata": {},
     "output_type": "execute_result"
    }
   ],
   "source": [
    "relevant_commits = df_edits[df_edits[\"new_path\"].str.contains(\".github/workflows/\", na=False)][['commit_sha', 'filename']]\n",
    "relevant_commits.drop_duplicates(inplace = True)\n",
    "relevant_commits"
   ]
  },
  {
   "cell_type": "code",
   "execution_count": 13,
   "metadata": {},
   "outputs": [
    {
     "data": {
      "text/html": [
       "<div>\n",
       "<style scoped>\n",
       "    .dataframe tbody tr th:only-of-type {\n",
       "        vertical-align: middle;\n",
       "    }\n",
       "\n",
       "    .dataframe tbody tr th {\n",
       "        vertical-align: top;\n",
       "    }\n",
       "\n",
       "    .dataframe thead th {\n",
       "        text-align: right;\n",
       "    }\n",
       "</style>\n",
       "<table border=\"1\" class=\"dataframe\">\n",
       "  <thead>\n",
       "    <tr style=\"text-align: right;\">\n",
       "      <th></th>\n",
       "      <th>author</th>\n",
       "      <th>commit_message</th>\n",
       "      <th>commited_at</th>\n",
       "    </tr>\n",
       "  </thead>\n",
       "  <tbody>\n",
       "    <tr>\n",
       "      <th>0</th>\n",
       "      <td>take-certain-word-end</td>\n",
       "      <td>Create python_package.yml</td>\n",
       "      <td>2021-02-28 17:31:08</td>\n",
       "    </tr>\n",
       "    <tr>\n",
       "      <th>1</th>\n",
       "      <td>take-certain-word-end</td>\n",
       "      <td>Add automated testing</td>\n",
       "      <td>2021-02-28 17:37:26</td>\n",
       "    </tr>\n",
       "    <tr>\n",
       "      <th>2</th>\n",
       "      <td>take-certain-word-end</td>\n",
       "      <td>Add github token variable to tests</td>\n",
       "      <td>2021-02-28 17:51:27</td>\n",
       "    </tr>\n",
       "    <tr>\n",
       "      <th>3</th>\n",
       "      <td>take-certain-word-end</td>\n",
       "      <td>Exclude private repositories from tests</td>\n",
       "      <td>2021-02-28 18:12:38</td>\n",
       "    </tr>\n",
       "    <tr>\n",
       "      <th>4</th>\n",
       "      <td>take-certain-word-end</td>\n",
       "      <td>Integrate commit processing</td>\n",
       "      <td>2021-02-28 20:00:33</td>\n",
       "    </tr>\n",
       "    <tr>\n",
       "      <th>5</th>\n",
       "      <td>take-certain-word-end</td>\n",
       "      <td>Update python_package.yml</td>\n",
       "      <td>2021-03-02 08:29:34</td>\n",
       "    </tr>\n",
       "    <tr>\n",
       "      <th>6</th>\n",
       "      <td>take-certain-word-end</td>\n",
       "      <td>Update python_package.yml</td>\n",
       "      <td>2021-03-02 08:31:39</td>\n",
       "    </tr>\n",
       "    <tr>\n",
       "      <th>7</th>\n",
       "      <td>take-certain-word-end</td>\n",
       "      <td>Update python_package.yml\\n\\nReplace old test ...</td>\n",
       "      <td>2021-03-08 08:26:15</td>\n",
       "    </tr>\n",
       "    <tr>\n",
       "      <th>8</th>\n",
       "      <td>love-go-past-name</td>\n",
       "      <td>edit tests\\n\\nadd bug-fix/tests to auto test run</td>\n",
       "      <td>2021-03-15 10:31:00</td>\n",
       "    </tr>\n",
       "    <tr>\n",
       "      <th>9</th>\n",
       "      <td>love-go-past-name</td>\n",
       "      <td>add v2.0.0 to workflow</td>\n",
       "      <td>2022-01-25 07:42:49</td>\n",
       "    </tr>\n",
       "  </tbody>\n",
       "</table>\n",
       "</div>"
      ],
      "text/plain": [
       "                  author                                     commit_message  \\\n",
       "0  take-certain-word-end                          Create python_package.yml   \n",
       "1  take-certain-word-end                              Add automated testing   \n",
       "2  take-certain-word-end                 Add github token variable to tests   \n",
       "3  take-certain-word-end            Exclude private repositories from tests   \n",
       "4  take-certain-word-end                        Integrate commit processing   \n",
       "5  take-certain-word-end                          Update python_package.yml   \n",
       "6  take-certain-word-end                          Update python_package.yml   \n",
       "7  take-certain-word-end  Update python_package.yml\\n\\nReplace old test ...   \n",
       "8      love-go-past-name   edit tests\\n\\nadd bug-fix/tests to auto test run   \n",
       "9      love-go-past-name                             add v2.0.0 to workflow   \n",
       "\n",
       "          commited_at  \n",
       "0 2021-02-28 17:31:08  \n",
       "1 2021-02-28 17:37:26  \n",
       "2 2021-02-28 17:51:27  \n",
       "3 2021-02-28 18:12:38  \n",
       "4 2021-02-28 20:00:33  \n",
       "5 2021-03-02 08:29:34  \n",
       "6 2021-03-02 08:31:39  \n",
       "7 2021-03-08 08:26:15  \n",
       "8 2021-03-15 10:31:00  \n",
       "9 2022-01-25 07:42:49  "
      ]
     },
     "execution_count": 13,
     "metadata": {},
     "output_type": "execute_result"
    }
   ],
   "source": [
    "pd.merge(relevant_commits, \n",
    "         df_commits[['author', 'commit_message', 'commit_sha', 'commited_at']],\n",
    "         how=\"left\", left_on = \"commit_sha\", right_on = \"commit_sha\")\\\n",
    "         [['author', 'commit_message', 'commited_at']]"
   ]
  },
  {
   "cell_type": "code",
   "execution_count": null,
   "metadata": {},
   "outputs": [],
   "source": []
  }
 ],
 "metadata": {
  "kernelspec": {
   "display_name": "Python 3 (ipykernel)",
   "language": "python",
   "name": "python3"
  },
  "language_info": {
   "codemirror_mode": {
    "name": "ipython",
    "version": 3
   },
   "file_extension": ".py",
   "mimetype": "text/x-python",
   "name": "python",
   "nbconvert_exporter": "python",
   "pygments_lexer": "ipython3",
   "version": "3.8.10"
  }
 },
 "nbformat": 4,
 "nbformat_minor": 4
}
