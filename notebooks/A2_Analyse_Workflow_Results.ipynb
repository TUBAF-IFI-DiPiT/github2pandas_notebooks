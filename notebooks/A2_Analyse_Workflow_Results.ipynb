{
 "cells": [
  {
   "cell_type": "code",
   "execution_count": 53,
   "metadata": {},
   "outputs": [],
   "source": [
    "from github2pandas.github2pandas import GitHub2Pandas\n",
    "from github2pandas.workflows import Workflows\n",
    "from github2pandas.version import Version\n",
    "from pathlib import Path\n",
    "import os\n",
    "import logging\n",
    "import pandas as pd"
   ]
  },
  {
   "cell_type": "markdown",
   "metadata": {},
   "source": [
    "# Evaluate Workflow Data\n",
    "\n",
    "-----------------------------------------------------------------\n",
    "This example illustrates the aggregation of workflow (actions) data using the `github2pandas` repository. Here, all workflows are read out, filtered and displayed in terms of success or failure. "
   ]
  },
  {
   "cell_type": "code",
   "execution_count": 54,
   "metadata": {},
   "outputs": [],
   "source": [
    "git_repo_name = \"github2pandas\"\n",
    "git_repo_owner = \"TUBAF-IFI-DiPiT\"\n",
    "\n",
    "data_root_dir = Path(\"data\")\n",
    "repo_data_dir = Path(data_root_dir, git_repo_owner, git_repo_name)"
   ]
  },
  {
   "cell_type": "code",
   "execution_count": 42,
   "metadata": {},
   "outputs": [],
   "source": [
    "df_workflows = GitHub2Pandas.get_pandas_data_frame(repo_data_dir, Workflows.Files.DATA_DIR, Workflows.Files.WORKFLOWS)\n",
    "df_runs = GitHub2Pandas.get_pandas_data_frame(repo_data_dir, Workflows.Files.DATA_DIR, Workflows.Files.RUNS)"
   ]
  },
  {
   "cell_type": "code",
   "execution_count": null,
   "metadata": {},
   "outputs": [],
   "source": [
    "df_workflows"
   ]
  },
  {
   "cell_type": "code",
   "execution_count": null,
   "metadata": {},
   "outputs": [],
   "source": [
    "df_runs.head(5)"
   ]
  },
  {
   "cell_type": "markdown",
   "metadata": {},
   "source": [
    "## Examples\n",
    "### Question 1: Do we generate more failures while working on weekend?"
   ]
  },
  {
   "cell_type": "code",
   "execution_count": null,
   "metadata": {},
   "outputs": [],
   "source": [
    "df_runs['day_of_week'] = df_runs['created_at'].dt.day_name()\n",
    "\n",
    "results = df_runs.groupby(['day_of_week', 'conclusion']).commit_sha.count().unstack()\n",
    "results['ratio'] = results['failure'] / (results['failure'] + results['success'])\n",
    "\n",
    "results.sort_values(by=['ratio'])"
   ]
  },
  {
   "cell_type": "markdown",
   "metadata": {},
   "source": [
    "_Result: Best results on Fridays and no failures on Sundays! Impressive!_"
   ]
  },
  {
   "cell_type": "markdown",
   "metadata": {},
   "source": [
    "### Question 2: What happens during the workflow run?\n",
    "\n",
    "Let's take a closer view on log files of a specific failed Action run."
   ]
  },
  {
   "cell_type": "code",
   "execution_count": null,
   "metadata": {},
   "outputs": [],
   "source": [
    "workflow_run_id = df_runs.iloc[2].id\n",
    "df_runs.iloc[2]"
   ]
  },
  {
   "cell_type": "code",
   "execution_count": 56,
   "metadata": {},
   "outputs": [],
   "source": [
    "github_token = os.environ['GITHUB_API_TOKEN']\n",
    "log_level = logging.DEBUG\n",
    "github2pandas = GitHub2Pandas(github_token, data_root_dir, log_level=log_level)\n",
    "repo = github2pandas.get_repo(git_repo_owner, git_repo_name)"
   ]
  },
  {
   "cell_type": "code",
   "execution_count": null,
   "metadata": {},
   "outputs": [],
   "source": [
    "Workflows.download_workflow_log_files(repo=repo,\n",
    "                                  github_token=github_token,\n",
    "                                  workflow_run_id=workflow_run_id,\n",
    "                                  data_root_dir=repo_data_dir)"
   ]
  },
  {
   "cell_type": "markdown",
   "metadata": {},
   "source": [
    "The workflow logs are stored in the data folder of the project now."
   ]
  },
  {
   "cell_type": "code",
   "execution_count": null,
   "metadata": {},
   "outputs": [],
   "source": [
    "# !ls ./data/TUBAF-IFI-DiPiT/github2pandas/Workflows/1914733676/extractData\n",
    "!dir .\\data\\TUBAF-IFI-DiPiT\\github2pandas\\Workflows\\2378448266\\extractData"
   ]
  },
  {
   "cell_type": "code",
   "execution_count": null,
   "metadata": {},
   "outputs": [],
   "source": [
    "# !tail -n 10 ./data/TUBAF-IFI-DiPiT/github2pandas/Workflows/1914733676/extractData/\"6_Run tests.txt\"\n",
    "!type .\\data\\TUBAF-IFI-DiPiT\\github2pandas\\Workflows\\2378448266\\extractData\\\"6_Run tests.txt\""
   ]
  },
  {
   "cell_type": "markdown",
   "metadata": {},
   "source": [
    "### Questions 3: Check who prepared the workflows\n",
    "\n",
    "For this request we have to merge Version data with Workflow information. \n",
    "\n",
    "1. Prepare commit, edits and workflow dataframes\n",
    "2. Extract commits adressing workflow-folder `.github/workflow/` from edits\n",
    "3. Identify authors integrating workflows"
   ]
  },
  {
   "cell_type": "code",
   "execution_count": 50,
   "metadata": {},
   "outputs": [],
   "source": [
    "df_edits = GitHub2Pandas.get_pandas_data_frame(repo_data_dir, Version.Files.DATA_DIR, Version.Files.EDITS)\n",
    "df_commits = GitHub2Pandas.get_pandas_data_frame(repo_data_dir, Version.Files.DATA_DIR, Version.Files.COMMITS)"
   ]
  },
  {
   "cell_type": "code",
   "execution_count": null,
   "metadata": {},
   "outputs": [],
   "source": [
    "relevant_commits = df_edits[df_edits[\"new_path\"].str.contains(\".github/workflows/\", na=False)][['commit_sha', 'filename']]\n",
    "relevant_commits.drop_duplicates(inplace = True)\n",
    "relevant_commits"
   ]
  },
  {
   "cell_type": "code",
   "execution_count": null,
   "metadata": {},
   "outputs": [],
   "source": [
    "pd.merge(relevant_commits, \n",
    "         df_commits[['author', 'commit_message', 'commit_sha', 'commited_at']],\n",
    "         how=\"left\", left_on = \"commit_sha\", right_on = \"commit_sha\")\\\n",
    "         [['author', 'commit_message', 'commited_at']]"
   ]
  },
  {
   "cell_type": "code",
   "execution_count": null,
   "metadata": {},
   "outputs": [],
   "source": []
  }
 ],
 "metadata": {
  "kernelspec": {
   "display_name": "Python 3 (ipykernel)",
   "language": "python",
   "name": "python3"
  },
  "language_info": {
   "codemirror_mode": {
    "name": "ipython",
    "version": 3
   },
   "file_extension": ".py",
   "mimetype": "text/x-python",
   "name": "python",
   "nbconvert_exporter": "python",
   "pygments_lexer": "ipython3",
   "version": "3.8.10"
  }
 },
 "nbformat": 4,
 "nbformat_minor": 4
}
