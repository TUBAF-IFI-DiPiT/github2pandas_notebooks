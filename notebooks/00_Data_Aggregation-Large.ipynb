{
 "cells": [
  {
   "cell_type": "markdown",
   "metadata": {},
   "source": [
    "# Basic data aggregation"
   ]
  },
  {
   "cell_type": "code",
   "execution_count": null,
   "metadata": {},
   "outputs": [],
   "source": [
    "from github2pandas.github2pandas import GitHub2Pandas\n",
    "from github2pandas.version import Version\n",
    "from pathlib import Path\n",
    "import logging\n",
    "import os"
   ]
  },
  {
   "cell_type": "markdown",
   "metadata": {},
   "source": [
    "## Preparing data aggregation\n",
    "\n",
    "https://github.com/microsoft/AirSim"
   ]
  },
  {
   "cell_type": "code",
   "execution_count": null,
   "metadata": {},
   "outputs": [],
   "source": [
    "git_repo_name = \"AirSim\"\n",
    "git_repo_owner = \"microsoft\"\n",
    "       \n",
    "data_root_dir = Path(\"data\")\n",
    "\n",
    "log_level = logging.DEBUG\n",
    "\n",
    "github_token = os.environ['GITHUB_API_TOKEN']\n",
    "# If you do not include your Github Token in .env, its neccessary to integrate it here. \n",
    "# github_token = \"yourToken\""
   ]
  },
  {
   "cell_type": "markdown",
   "metadata": {},
   "source": [
    "## Data Aggregation"
   ]
  },
  {
   "cell_type": "code",
   "execution_count": null,
   "metadata": {},
   "outputs": [],
   "source": [
    "github2pandas = GitHub2Pandas(github_token, data_root_dir, log_level=log_level)\n",
    "repo = github2pandas.get_repo(git_repo_owner, git_repo_name)"
   ]
  },
  {
   "cell_type": "code",
   "execution_count": null,
   "metadata": {},
   "outputs": [],
   "source": [
    "version = Version(github2pandas.github_connection, repo, data_root_dir)\n",
    "version.clone_repository(github_token=github_token)\n",
    "version.generate_pandas_tables()"
   ]
  },
  {
   "cell_type": "code",
   "execution_count": null,
   "metadata": {},
   "outputs": [],
   "source": [
    "repo_data_dir = Path(data_root_dir, git_repo_owner, git_repo_name)\n",
    "versions_path = Path.joinpath(repo_data_dir, Version.Files.DATA_DIR)\n",
    "df_edits = GitHub2Pandas.get_pandas_data_frame(versions_path, Version.Files.EDITS)\n",
    "df_commits = GitHub2Pandas.get_pandas_data_frame(versions_path, Version.Files.COMMITS)"
   ]
  },
  {
   "cell_type": "code",
   "execution_count": null,
   "metadata": {},
   "outputs": [],
   "source": [
    "df_commits"
   ]
  },
  {
   "cell_type": "code",
   "execution_count": null,
   "metadata": {},
   "outputs": [],
   "source": []
  }
 ],
 "metadata": {
  "kernelspec": {
   "display_name": "Python 3 (ipykernel)",
   "language": "python",
   "name": "python3"
  },
  "language_info": {
   "codemirror_mode": {
    "name": "ipython",
    "version": 3
   },
   "file_extension": ".py",
   "mimetype": "text/x-python",
   "name": "python",
   "nbconvert_exporter": "python",
   "pygments_lexer": "ipython3",
   "version": "3.8.10"
  }
 },
 "nbformat": 4,
 "nbformat_minor": 4
}
