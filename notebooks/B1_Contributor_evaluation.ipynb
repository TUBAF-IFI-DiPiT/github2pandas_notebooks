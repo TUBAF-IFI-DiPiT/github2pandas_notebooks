{
 "cells": [
  {
   "cell_type": "markdown",
   "id": "6182770c",
   "metadata": {},
   "source": [
    "# Contributor evaluation"
   ]
  },
  {
   "cell_type": "code",
   "execution_count": 1,
   "id": "9a30db28",
   "metadata": {},
   "outputs": [],
   "source": [
    "%matplotlib inline"
   ]
  },
  {
   "cell_type": "code",
   "execution_count": 2,
   "id": "8eb85af7",
   "metadata": {},
   "outputs": [],
   "source": [
    "from github2pandas.github2pandas import GitHub2Pandas\n",
    "from github2pandas.version import Version\n",
    "from pathlib import Path\n",
    "import pandas as pd\n",
    "import logging\n",
    "import os\n",
    "import numpy as np\n",
    "from matplotlib import pyplot as plt\n",
    "import matplotlib.dates as mdates"
   ]
  },
  {
   "cell_type": "code",
   "execution_count": 3,
   "id": "194fdcff",
   "metadata": {},
   "outputs": [],
   "source": [
    "git_repo_name = \"AirSim\"\n",
    "git_repo_owner = \"microsoft\"\n",
    "       \n",
    "data_root_dir = Path(\"data\")\n",
    "\n",
    "log_level = logging.DEBUG\n",
    "\n",
    "github_token = os.environ['GITHUB_API_TOKEN']"
   ]
  },
  {
   "cell_type": "code",
   "execution_count": 4,
   "id": "4ca0cdff",
   "metadata": {},
   "outputs": [],
   "source": [
    "repo_data_dir = Path(data_root_dir, git_repo_owner, git_repo_name)\n",
    "versions_path = Path.joinpath(repo_data_dir, Version.Files.DATA_DIR)\n",
    "df_edits = GitHub2Pandas.get_pandas_data_frame(versions_path, Version.Files.EDITS)\n",
    "df_commits = GitHub2Pandas.get_pandas_data_frame(versions_path, Version.Files.COMMITS)"
   ]
  },
  {
   "cell_type": "code",
   "execution_count": 5,
   "id": "ccfa9fee",
   "metadata": {},
   "outputs": [
    {
     "name": "stdout",
     "output_type": "stream",
     "text": [
      "183 contributors at all\n"
     ]
    }
   ],
   "source": [
    "print(f\"{len(df_commits.author.unique())} contributors at all\")"
   ]
  },
  {
   "cell_type": "code",
   "execution_count": 6,
   "id": "8c1188d1",
   "metadata": {},
   "outputs": [
    {
     "name": "stdout",
     "output_type": "stream",
     "text": [
      "264 weeks in project\n"
     ]
    }
   ],
   "source": [
    "df_contributors = df_commits.resample('W', on='commited_at').agg({'author':lambda x: set(x)})\n",
    "df_contributors.reset_index(inplace = True)\n",
    "\n",
    "print(f\"{df_contributors.shape[0]} weeks in project\")"
   ]
  },
  {
   "cell_type": "markdown",
   "id": "a62e9e55",
   "metadata": {},
   "source": [
    "## Data preparation"
   ]
  },
  {
   "cell_type": "code",
   "execution_count": 7,
   "id": "2a55c371",
   "metadata": {},
   "outputs": [],
   "source": [
    "z = []\n",
    "for k,row in df_contributors.iterrows():\n",
    "    for j in list(np.array(list(row.author)).flat):\n",
    "        z.append({'date':row.commited_at, 'id':j})\n",
    "df_contributors_per_week = pd.DataFrame(z)"
   ]
  },
  {
   "cell_type": "code",
   "execution_count": 8,
   "id": "afee5fe9",
   "metadata": {},
   "outputs": [
    {
     "data": {
      "text/html": [
       "<div>\n",
       "<style scoped>\n",
       "    .dataframe tbody tr th:only-of-type {\n",
       "        vertical-align: middle;\n",
       "    }\n",
       "\n",
       "    .dataframe tbody tr th {\n",
       "        vertical-align: top;\n",
       "    }\n",
       "\n",
       "    .dataframe thead th {\n",
       "        text-align: right;\n",
       "    }\n",
       "</style>\n",
       "<table border=\"1\" class=\"dataframe\">\n",
       "  <thead>\n",
       "    <tr style=\"text-align: right;\">\n",
       "      <th></th>\n",
       "      <th>date</th>\n",
       "      <th>id</th>\n",
       "    </tr>\n",
       "  </thead>\n",
       "  <tbody>\n",
       "    <tr>\n",
       "      <th>0</th>\n",
       "      <td>2017-02-19</td>\n",
       "      <td>None</td>\n",
       "    </tr>\n",
       "    <tr>\n",
       "      <th>1</th>\n",
       "      <td>2017-02-19</td>\n",
       "      <td>learn-main-short-place</td>\n",
       "    </tr>\n",
       "    <tr>\n",
       "      <th>2</th>\n",
       "      <td>2017-02-19</td>\n",
       "      <td>follow-want-hard-people</td>\n",
       "    </tr>\n",
       "    <tr>\n",
       "      <th>3</th>\n",
       "      <td>2017-02-19</td>\n",
       "      <td>win-certain-common-book</td>\n",
       "    </tr>\n",
       "    <tr>\n",
       "      <th>4</th>\n",
       "      <td>2017-02-19</td>\n",
       "      <td>could-human-religious-thing</td>\n",
       "    </tr>\n",
       "  </tbody>\n",
       "</table>\n",
       "</div>"
      ],
      "text/plain": [
       "        date                           id\n",
       "0 2017-02-19                         None\n",
       "1 2017-02-19       learn-main-short-place\n",
       "2 2017-02-19      follow-want-hard-people\n",
       "3 2017-02-19      win-certain-common-book\n",
       "4 2017-02-19  could-human-religious-thing"
      ]
     },
     "execution_count": 8,
     "metadata": {},
     "output_type": "execute_result"
    }
   ],
   "source": [
    "df_contributors_per_week.head()"
   ]
  },
  {
   "cell_type": "markdown",
   "id": "90983d6d",
   "metadata": {},
   "source": [
    "Oha, their are some not known contributors involved. "
   ]
  },
  {
   "cell_type": "code",
   "execution_count": 9,
   "id": "982d8e81",
   "metadata": {},
   "outputs": [],
   "source": [
    "df_contributors_per_week.drop(df_contributors_per_week[df_contributors_per_week['id'].isnull()].index, inplace = True)"
   ]
  },
  {
   "cell_type": "markdown",
   "id": "ddb351dc",
   "metadata": {},
   "source": [
    "## Analysis\n",
    "\n",
    "### Question 1: What is the usual count of different contributors per week?"
   ]
  },
  {
   "cell_type": "code",
   "execution_count": 10,
   "id": "4dd92532",
   "metadata": {},
   "outputs": [
    {
     "data": {
      "image/png": "[encoded data removed]",
      "text/plain": [
       "<Figure size 432x288 with 1 Axes>"
      ]
     },
     "metadata": {
      "needs_background": "light"
     },
     "output_type": "display_data"
    }
   ],
   "source": [
    "timeline = df_contributors_per_week.groupby(['date']).count()\n",
    "\n",
    "fig,ax = plt.subplots()\n",
    "\n",
    "timeline.plot.bar(ax=ax)\n",
    "plt.xticks([])\n",
    "plt.xlabel(\"Weeks 2017-2022\")\n",
    "plt.ylabel(\"Contributors per week\");"
   ]
  },
  {
   "cell_type": "markdown",
   "id": "7fa880fe",
   "metadata": {},
   "source": [
    "### Question 2: What is the usual number of contributions by an individual contributor?"
   ]
  },
  {
   "cell_type": "code",
   "execution_count": 11,
   "id": "a98e4006",
   "metadata": {},
   "outputs": [
    {
     "data": {
      "image/png": "[encoded data removed]",
      "text/plain": [
       "<Figure size 432x288 with 1 Axes>"
      ]
     },
     "metadata": {
      "needs_background": "light"
     },
     "output_type": "display_data"
    }
   ],
   "source": [
    "hist = df_contributors_per_week.groupby(['id']).count().sort_values(\"date\", ascending=False).values\n",
    "hist = [item for sublist in hist for item in sublist]\n",
    "\n",
    "fig, ax = plt.subplots()\n",
    "plt.hist(hist, 100);\n",
    "plt.xlabel(\"Count\")\n",
    "plt.ylabel(\"Count of active weeks\");"
   ]
  },
  {
   "cell_type": "code",
   "execution_count": null,
   "id": "f92733a5",
   "metadata": {},
   "outputs": [],
   "source": []
  }
 ],
 "metadata": {
  "kernelspec": {
   "display_name": "Python 3 (ipykernel)",
   "language": "python",
   "name": "python3"
  },
  "language_info": {
   "codemirror_mode": {
    "name": "ipython",
    "version": 3
   },
   "file_extension": ".py",
   "mimetype": "text/x-python",
   "name": "python",
   "nbconvert_exporter": "python",
   "pygments_lexer": "ipython3",
   "version": "3.8.10"
  }
 },
 "nbformat": 4,
 "nbformat_minor": 5
}
