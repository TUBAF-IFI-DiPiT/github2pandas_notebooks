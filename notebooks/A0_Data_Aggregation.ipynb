{
 "cells": [
  {
   "cell_type": "markdown",
   "metadata": {},
   "source": [
    "# Basic data aggregation"
   ]
  },
  {
   "cell_type": "code",
   "execution_count": 10,
   "metadata": {},
   "outputs": [],
   "source": [
    "from github2pandas.github2pandas import GitHub2Pandas\n",
    "from github2pandas.workflows import Workflows\n",
    "from github2pandas.pull_requests import PullRequests\n",
    "from github2pandas.version import Version\n",
    "from pathlib import Path\n",
    "import logging\n",
    "import os"
   ]
  },
  {
   "cell_type": "markdown",
   "metadata": {},
   "source": [
    "## Preparing data aggregation\n",
    "\n",
    "### Basis parameter\n",
    "\n",
    "Defining \n",
    "\n",
    "+ paramters of relevant repository\n",
    "+ path for data set\n",
    "+ log level\n",
    "+ github token for accessing data "
   ]
  },
  {
   "cell_type": "code",
   "execution_count": 11,
   "metadata": {},
   "outputs": [],
   "source": [
    "git_repo_name = \"github2pandas\"\n",
    "git_repo_owner = \"TUBAF-IFI-DiPiT\"\n",
    "    \n",
    "data_root_dir = Path(\"data\")\n",
    "\n",
    "log_level = logging.DEBUG\n",
    "\n",
    "# _github_token = os.environ['GITHUB_API_TOKEN']\n",
    "# If you do not include your Github Token in .env, its neccessary to integrate it here. \n",
    "github_token = \"your github token\""
   ]
  },
  {
   "cell_type": "markdown",
   "metadata": {},
   "source": [
    "## Data Aggregation"
   ]
  },
  {
   "cell_type": "code",
   "execution_count": 3,
   "metadata": {},
   "outputs": [],
   "source": [
    "github2pandas = GitHub2Pandas(github_token, data_root_dir, log_level=log_level)\n",
    "repo = github2pandas.get_repo(git_repo_owner, git_repo_name)\n",
    "github2pandas.generate_pandas_tables(repo)"
   ]
  },
  {
   "cell_type": "markdown",
   "metadata": {},
   "source": [
    "### Variant 1: Generic Access based on configuration\n",
    "\n",
    "Which aspects of the repository are relevant and should be extracted? Feel free to adapt the default configuration."
   ]
  },
  {
   "cell_type": "code",
   "execution_count": 4,
   "metadata": {},
   "outputs": [],
   "source": [
    "# extraction_params = GitHub2Pandas.Params().set_all_true()\n",
    "extraction_params = GitHub2Pandas.Params().set_all_false()"
   ]
  },
  {
   "cell_type": "code",
   "execution_count": 5,
   "metadata": {},
   "outputs": [],
   "source": [
    "# extraction_params.git_releases = False\n",
    "extraction_params.workflows_params = Workflows.Params()\n",
    "extraction_params.pull_requests_params = PullRequests.Params()"
   ]
  },
  {
   "cell_type": "code",
   "execution_count": 6,
   "metadata": {},
   "outputs": [
    {
     "name": "stdout",
     "output_type": "stream",
     "text": [
      "Pull Requests:   [############################################################] 40/40\n",
      "Pull Request Comments: [############################################################] 15/15\n",
      "Workflows: [############################################################] 3/3\n",
      "Workflow Runs: [############################################################] 225/225\n"
     ]
    }
   ],
   "source": [
    "github2pandas.generate_pandas_tables(repo, extraction_params)"
   ]
  },
  {
   "cell_type": "markdown",
   "metadata": {},
   "source": [
    "### Variant 2: Individual access on specific aspects \n",
    "\n",
    "Select individual repository parameters by starting aggregation processes individually."
   ]
  },
  {
   "cell_type": "code",
   "execution_count": 7,
   "metadata": {},
   "outputs": [
    {
     "name": "stdout",
     "output_type": "stream",
     "text": [
      "Workflows: [############################################################] 3/3\n",
      "Workflow Runs: [############################################################] 225/225\n"
     ]
    }
   ],
   "source": [
    "workflows=github2pandas.generate_workflows_pandas_tables(repo)"
   ]
  },
  {
   "cell_type": "code",
   "execution_count": 9,
   "metadata": {},
   "outputs": [
    {
     "name": "stderr",
     "output_type": "stream",
     "text": [
      " -> Branch refs/tags/v1.0.2 can not be tracked!\n",
      " -> Branch refs/tags/v1.0.3 can not be tracked!\n",
      " -> Branch refs/tags/v1.0.31 can not be tracked!\n",
      " -> Branch refs/tags/v1.1.0 can not be tracked!\n",
      " -> Branch refs/tags/v1.1.1 can not be tracked!\n",
      " -> Branch refs/tags/v1.1.14 can not be tracked!\n",
      " -> Branch refs/tags/v1.1.15 can not be tracked!\n",
      " -> Branch refs/tags/v1.1.17 can not be tracked!\n",
      " -> Branch refs/tags/v1.1.18 can not be tracked!\n",
      " -> Branch refs/tags/v1.1.2 can not be tracked!\n",
      " -> Branch refs/tags/v1.1.3 can not be tracked!\n",
      " -> Branch refs/tags/v1.1.4 can not be tracked!\n",
      " -> Branch refs/tags/v1.1.5 can not be tracked!\n",
      " -> Branch refs/tags/v1.1.6 can not be tracked!\n",
      " -> Branch refs/tags/v1.1.7 can not be tracked!\n"
     ]
    },
    {
     "name": "stdout",
     "output_type": "stream",
     "text": [
      "Found a matching database on provided path. Skipping 0 (0.00%) of 366 commits. 366 commits remaining.\n"
     ]
    },
    {
     "name": "stderr",
     "output_type": "stream",
     "text": [
      "Serial: 100%|██████████| 366/366 [10:50<00:00,  1.78s/it]  \n"
     ]
    },
    {
     "name": "stdout",
     "output_type": "stream",
     "text": [
      "Version parse user:[############################################################] 6/6\n",
      "Version tags:   [############################################################] 15/15\n"
     ]
    }
   ],
   "source": [
    "version=github2pandas.generate_version_pandas_tables(repo,1)"
   ]
  },
  {
   "cell_type": "code",
   "execution_count": null,
   "metadata": {},
   "outputs": [],
   "source": []
  }
 ],
 "metadata": {
  "interpreter": {
   "hash": "7f9b69715a1874cdd00443fb72ff8d0f7cdf08e766513a2392055ff30fb2b703"
  },
  "kernelspec": {
   "display_name": "Python 3.9.7 64-bit",
   "language": "python",
   "name": "python3"
  },
  "language_info": {
   "codemirror_mode": {
    "name": "ipython",
    "version": 3
   },
   "file_extension": ".py",
   "mimetype": "text/x-python",
   "name": "python",
   "nbconvert_exporter": "python",
   "pygments_lexer": "ipython3",
   "version": "3.9.7"
  }
 },
 "nbformat": 4,
 "nbformat_minor": 4
}
