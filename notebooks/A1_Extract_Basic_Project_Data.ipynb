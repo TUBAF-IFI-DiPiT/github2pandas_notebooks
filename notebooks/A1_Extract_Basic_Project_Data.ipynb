{
 "cells": [
  {
   "cell_type": "code",
   "execution_count": null,
   "metadata": {},
   "outputs": [],
   "source": [
    "from github2pandas.github2pandas import GitHub2Pandas\n",
    "from github2pandas.issues import Issues\n",
    "from github2pandas.pull_requests import PullRequests\n",
    "from github2pandas.workflows import Workflows\n",
    "from github2pandas.version import Version\n",
    "from pathlib import Path\n",
    "import logging\n",
    "import os"
   ]
  },
  {
   "cell_type": "markdown",
   "metadata": {},
   "source": [
    "# Extracting basic project data from raw files\n",
    "\n",
    "-----------------------------------------------------------------\n"
   ]
  },
  {
   "cell_type": "code",
   "execution_count": null,
   "metadata": {},
   "outputs": [],
   "source": [
    "git_repo_name = \"github2pandas\"\n",
    "git_repo_owner = \"TUBAF-IFI-DiPiT\"\n",
    "\n",
    "data_root_dir = Path(\"data\")\n",
    "repo_data_dir = Path(data_root_dir, git_repo_owner, git_repo_name)\n",
    "\n",
    "log_level = logging.DEBUG\n",
    "# _github_token = os.environ['GITHUB_API_TOKEN']\n",
    "# If you do not include your Github Token in .env, its neccessary to integrate it here. \n",
    "github_token = \"your github token\""
   ]
  },
  {
   "cell_type": "markdown",
   "metadata": {},
   "source": [
    "## Generate project overview based on Pandas Dataframes"
   ]
  },
  {
   "cell_type": "markdown",
   "metadata": {},
   "source": [
    "### Project users"
   ]
  },
  {
   "cell_type": "code",
   "execution_count": null,
   "metadata": {},
   "outputs": [],
   "source": [
    "df_users = GitHub2Pandas.get_pandas_data_frame(repo_data_dir, GitHub2Pandas.Files.DATA_DIR, GitHub2Pandas.Files.USER)\n",
    "df_users"
   ]
  },
  {
   "cell_type": "markdown",
   "metadata": {},
   "source": [
    "### Project duration (days)"
   ]
  },
  {
   "cell_type": "code",
   "execution_count": null,
   "metadata": {},
   "outputs": [],
   "source": [
    "df_commits = GitHub2Pandas.get_pandas_data_frame(repo_data_dir,Version.Files.DATA_DIR, Version.Files.COMMITS)\n",
    "\n",
    "span = df_commits.commited_at.max() - df_commits.commited_at.min()\n",
    "print(f\"Project active for {span.days} days\")"
   ]
  },
  {
   "cell_type": "code",
   "execution_count": null,
   "metadata": {},
   "outputs": [],
   "source": [
    "print(f\"{df_commits.shape[0]} commits found in repository\")"
   ]
  },
  {
   "cell_type": "code",
   "execution_count": null,
   "metadata": {},
   "outputs": [],
   "source": [
    "df_commits.iloc[0]"
   ]
  },
  {
   "cell_type": "markdown",
   "metadata": {},
   "source": [
    "###  Do Issues exist in the repository"
   ]
  },
  {
   "cell_type": "code",
   "execution_count": null,
   "metadata": {},
   "outputs": [],
   "source": [
    "df_issues = GitHub2Pandas.get_pandas_data_frame(repo_data_dir, Issues.Files.DATA_DIR, Issues.Files.ISSUES)\n",
    "\n",
    "if df_issues.empty:\n",
    "    print(\"There are no Issues. Look up if there are Issues\")\n",
    "    github2pandas = GitHub2Pandas(github_token, data_root_dir, log_level=log_level)\n",
    "    repo = github2pandas.get_repo(git_repo_owner, git_repo_name)\n",
    "    pdIssues = github2pandas.generate_issues_pandas_tables(repo)\n",
    "    if pdIssues.empty:\n",
    "        print(\"There are no Issues in this Repository\")\n",
    "else:\n",
    "    print(\"There are %d Issues in this Repository\" % df_issues.shape[0])"
   ]
  },
  {
   "cell_type": "code",
   "execution_count": null,
   "metadata": {},
   "outputs": [],
   "source": [
    "df_issues.iloc[0]"
   ]
  },
  {
   "cell_type": "markdown",
   "metadata": {},
   "source": [
    "### And what about branches?"
   ]
  },
  {
   "cell_type": "code",
   "execution_count": null,
   "metadata": {},
   "outputs": [],
   "source": [
    "df_branches = GitHub2Pandas.get_pandas_data_frame(repo_data_dir, Version.Files.DATA_DIR, Version.Files.BRANCHES)\n",
    "    \n",
    "if df_branches.empty:\n",
    "    print(\"There are no Branches in this Repository.\")\n",
    "else:\n",
    "    print(\"There are %d Branches in this Repository\" % df_branches.shape[0])"
   ]
  },
  {
   "cell_type": "code",
   "execution_count": null,
   "metadata": {},
   "outputs": [],
   "source": [
    "df_branches"
   ]
  }
 ],
 "metadata": {
  "interpreter": {
   "hash": "7f9b69715a1874cdd00443fb72ff8d0f7cdf08e766513a2392055ff30fb2b703"
  },
  "kernelspec": {
   "display_name": "Python 3.9.7 64-bit",
   "language": "python",
   "name": "python3"
  },
  "language_info": {
   "codemirror_mode": {
    "name": "ipython",
    "version": 3
   },
   "file_extension": ".py",
   "mimetype": "text/x-python",
   "name": "python",
   "nbconvert_exporter": "python",
   "pygments_lexer": "ipython3",
   "version": "3.9.7"
  }
 },
 "nbformat": 4,
 "nbformat_minor": 4
}
