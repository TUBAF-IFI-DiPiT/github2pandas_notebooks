{
 "cells": [
  {
   "cell_type": "code",
   "execution_count": 2,
   "metadata": {},
   "outputs": [],
   "source": [
    "from github2pandas.github2pandas import GitHub2Pandas\n",
    "from github2pandas.issues import Issues\n",
    "from github2pandas.pull_requests import PullRequests\n",
    "from github2pandas.workflows import Workflows\n",
    "from github2pandas.version import Version\n",
    "from pathlib import Path\n",
    "import logging\n",
    "import os"
   ]
  },
  {
   "cell_type": "markdown",
   "metadata": {},
   "source": [
    "# Extracting basic project data from raw files\n",
    "\n",
    "-----------------------------------------------------------------\n"
   ]
  },
  {
   "cell_type": "code",
   "execution_count": 14,
   "metadata": {},
   "outputs": [],
   "source": [
    "git_repo_name = \"github2pandas\"\n",
    "git_repo_owner = \"TUBAF-IFI-DiPiT\"\n",
    "\n",
    "data_root_dir = Path(\"data\")\n",
    "repo_data_dir = Path(data_root_dir, git_repo_owner, git_repo_name)"
   ]
  },
  {
   "cell_type": "markdown",
   "metadata": {},
   "source": [
    "## Generate project overview based on Pandas Dataframes"
   ]
  },
  {
   "cell_type": "markdown",
   "metadata": {},
   "source": [
    "### Project users"
   ]
  },
  {
   "cell_type": "code",
   "execution_count": 15,
   "metadata": {},
   "outputs": [
    {
     "data": {
      "text/html": [
       "<div>\n",
       "<style scoped>\n",
       "    .dataframe tbody tr th:only-of-type {\n",
       "        vertical-align: middle;\n",
       "    }\n",
       "\n",
       "    .dataframe tbody tr th {\n",
       "        vertical-align: top;\n",
       "    }\n",
       "\n",
       "    .dataframe thead th {\n",
       "        text-align: right;\n",
       "    }\n",
       "</style>\n",
       "<table border=\"1\" class=\"dataframe\">\n",
       "  <thead>\n",
       "    <tr style=\"text-align: right;\">\n",
       "      <th></th>\n",
       "      <th>anonym_uuid</th>\n",
       "      <th>id</th>\n",
       "      <th>name</th>\n",
       "      <th>email</th>\n",
       "      <th>login</th>\n",
       "    </tr>\n",
       "  </thead>\n",
       "  <tbody>\n",
       "    <tr>\n",
       "      <th>0</th>\n",
       "      <td>love-go-past-name</td>\n",
       "      <td>MDQ6VXNlcjI3OTUzNjAx</td>\n",
       "      <td>Maximilian Karl</td>\n",
       "      <td>None</td>\n",
       "      <td>MaximilianKarl</td>\n",
       "    </tr>\n",
       "    <tr>\n",
       "      <th>1</th>\n",
       "      <td>take-certain-word-end</td>\n",
       "      <td>MDQ6VXNlcjEwOTIyMzU2</td>\n",
       "      <td>Sebastian Zug</td>\n",
       "      <td>None</td>\n",
       "      <td>SebastianZug</td>\n",
       "    </tr>\n",
       "    <tr>\n",
       "      <th>2</th>\n",
       "      <td>set-meet-private-book</td>\n",
       "      <td>MDQ6VXNlcjUxMDgxMTY0</td>\n",
       "      <td>None</td>\n",
       "      <td>None</td>\n",
       "      <td>0x000eHx</td>\n",
       "    </tr>\n",
       "    <tr>\n",
       "      <th>3</th>\n",
       "      <td>reach-young-financial-family</td>\n",
       "      <td>MDQ6VXNlcjczMTg5NjQ5</td>\n",
       "      <td>None</td>\n",
       "      <td>None</td>\n",
       "      <td>fb89zila</td>\n",
       "    </tr>\n",
       "    <tr>\n",
       "      <th>4</th>\n",
       "      <td>buy-sure-room-art</td>\n",
       "      <td>MDQ6VXNlcjY2Nzc4NDkz</td>\n",
       "      <td>Mezekr Weldu</td>\n",
       "      <td>None</td>\n",
       "      <td>Mezekr</td>\n",
       "    </tr>\n",
       "    <tr>\n",
       "      <th>5</th>\n",
       "      <td>can-expect-late-month</td>\n",
       "      <td>MDQ6VXNlcjE5ODY0NDQ3</td>\n",
       "      <td>GitHub Web Flow</td>\n",
       "      <td>None</td>\n",
       "      <td>web-flow</td>\n",
       "    </tr>\n",
       "  </tbody>\n",
       "</table>\n",
       "</div>"
      ],
      "text/plain": [
       "                    anonym_uuid                    id             name email  \\\n",
       "0             love-go-past-name  MDQ6VXNlcjI3OTUzNjAx  Maximilian Karl  None   \n",
       "1         take-certain-word-end  MDQ6VXNlcjEwOTIyMzU2    Sebastian Zug  None   \n",
       "2         set-meet-private-book  MDQ6VXNlcjUxMDgxMTY0             None  None   \n",
       "3  reach-young-financial-family  MDQ6VXNlcjczMTg5NjQ5             None  None   \n",
       "4             buy-sure-room-art  MDQ6VXNlcjY2Nzc4NDkz     Mezekr Weldu  None   \n",
       "5         can-expect-late-month  MDQ6VXNlcjE5ODY0NDQ3  GitHub Web Flow  None   \n",
       "\n",
       "            login  \n",
       "0  MaximilianKarl  \n",
       "1    SebastianZug  \n",
       "2        0x000eHx  \n",
       "3        fb89zila  \n",
       "4          Mezekr  \n",
       "5        web-flow  "
      ]
     },
     "execution_count": 15,
     "metadata": {},
     "output_type": "execute_result"
    }
   ],
   "source": [
    "df_users = GitHub2Pandas.get_pandas_data_frame(repo_data_dir, GitHub2Pandas.Files.CORE.USERS)\n",
    "df_users"
   ]
  },
  {
   "cell_type": "markdown",
   "metadata": {},
   "source": [
    "### Project duration (days)"
   ]
  },
  {
   "cell_type": "code",
   "execution_count": 27,
   "metadata": {},
   "outputs": [
    {
     "name": "stdout",
     "output_type": "stream",
     "text": [
      "Project active for 356 days\n"
     ]
    }
   ],
   "source": [
    "commits_path = Path.joinpath(repo_data_dir, Version.Files.DATA_DIR)\n",
    "df_commits = GitHub2Pandas.get_pandas_data_frame(commits_path, Version.Files.COMMITS)\n",
    "\n",
    "span = df_commits.commited_at.max() - df_commits.commited_at.min()\n",
    "print(f\"Project active for {span.days} days\")"
   ]
  },
  {
   "cell_type": "code",
   "execution_count": 30,
   "metadata": {},
   "outputs": [
    {
     "name": "stdout",
     "output_type": "stream",
     "text": [
      "320 commits found in repository\n"
     ]
    }
   ],
   "source": [
    "print(f\"{df_commits.shape[0]} commits found in repository\")"
   ]
  },
  {
   "cell_type": "code",
   "execution_count": 31,
   "metadata": {},
   "outputs": [
    {
     "data": {
      "text/plain": [
       "commit_sha             97829b0ec7a2669e914d5adff6a48df1403c2ea0\n",
       "commited_at                                 2021-02-25 14:04:07\n",
       "committer_timezone                                        -3600\n",
       "no_of_modifications                                           2\n",
       "commit_message                                   Initial commit\n",
       "parent_sha                                                     \n",
       "in_main_branch                                                1\n",
       "author                                    take-certain-word-end\n",
       "committer                                 can-expect-late-month\n",
       "unknown_user                                                NaN\n",
       "tag                                                            \n",
       "branch_ids                                      [0, 3, 1, 2, 4]\n",
       "Name: 0, dtype: object"
      ]
     },
     "execution_count": 31,
     "metadata": {},
     "output_type": "execute_result"
    }
   ],
   "source": [
    "df_commits.iloc[0]"
   ]
  },
  {
   "cell_type": "markdown",
   "metadata": {},
   "source": [
    "###  Do Issues exist in the repository"
   ]
  },
  {
   "cell_type": "code",
   "execution_count": 33,
   "metadata": {},
   "outputs": [
    {
     "name": "stdout",
     "output_type": "stream",
     "text": [
      "There are 72 Issues in this Repository\n"
     ]
    }
   ],
   "source": [
    "issues_path = Path.joinpath(repo_data_dir, Issues.Files.DATA_DIR)\n",
    "df_issues = GitHub2Pandas.get_pandas_data_frame(issues_path, Issues.Files.ISSUES)\n",
    "\n",
    "if df_issues.empty:\n",
    "    print(\"There are no Issues. Look up if there are Issues\")\n",
    "    repo = Utility.get_repo(git_repo_owner, git_repo_name, github_token, default_data_folder)\n",
    "    Issues.generate_issue_pandas_tables(repo, default_data_folder)\n",
    "    pdIssues = Issues.get_issues(default_data_folder)\n",
    "    if pdIssues.empty:\n",
    "        print(\"There are no Issues in this Repository\")\n",
    "else:\n",
    "    print(\"There are %d Issues in this Repository\" % df_issues.shape[0])"
   ]
  },
  {
   "cell_type": "code",
   "execution_count": 34,
   "metadata": {},
   "outputs": [
    {
     "data": {
      "text/plain": [
       "assignees                                                            []\n",
       "body                                           apply naming conventions\n",
       "closed_at                                           2021-03-02 07:24:18\n",
       "comments                                                              0\n",
       "created_at                                          2021-03-02 07:22:41\n",
       "id                                                            819722092\n",
       "labels                                                               []\n",
       "locked                                                            False\n",
       "active_lock_reason                                                 None\n",
       "number                                                                5\n",
       "state                                                            closed\n",
       "title                                          apply naming conventions\n",
       "updated_at                                          2021-03-02 14:40:08\n",
       "url                   https://api.github.com/repos/TUBAF-IFI-DiPiT/g...\n",
       "author                                                love-go-past-name\n",
       "is_pull_request                                                    True\n",
       "Name: 0, dtype: object"
      ]
     },
     "execution_count": 34,
     "metadata": {},
     "output_type": "execute_result"
    }
   ],
   "source": [
    "df_issues.iloc[0]"
   ]
  },
  {
   "cell_type": "markdown",
   "metadata": {},
   "source": [
    "### And what about branches?"
   ]
  },
  {
   "cell_type": "code",
   "execution_count": 35,
   "metadata": {},
   "outputs": [
    {
     "name": "stdout",
     "output_type": "stream",
     "text": [
      "There are 5 Branches in this Repository\n"
     ]
    }
   ],
   "source": [
    "branches_path = Path.joinpath(repo_data_dir, Version.Files.DATA_DIR)\n",
    "df_branches = GitHub2Pandas.get_pandas_data_frame(branches_path, Version.Files.BRANCHES)\n",
    "    \n",
    "if df_branches.empty:\n",
    "    print(\"There are no Branches in this Repository.\")\n",
    "else:\n",
    "    print(\"There are %d Branches in this Repository\" % df_branches.shape[0])"
   ]
  },
  {
   "cell_type": "code",
   "execution_count": 36,
   "metadata": {},
   "outputs": [
    {
     "data": {
      "text/html": [
       "<div>\n",
       "<style scoped>\n",
       "    .dataframe tbody tr th:only-of-type {\n",
       "        vertical-align: middle;\n",
       "    }\n",
       "\n",
       "    .dataframe tbody tr th {\n",
       "        vertical-align: top;\n",
       "    }\n",
       "\n",
       "    .dataframe thead th {\n",
       "        text-align: right;\n",
       "    }\n",
       "</style>\n",
       "<table border=\"1\" class=\"dataframe\">\n",
       "  <thead>\n",
       "    <tr style=\"text-align: right;\">\n",
       "      <th></th>\n",
       "      <th>branch_names</th>\n",
       "    </tr>\n",
       "  </thead>\n",
       "  <tbody>\n",
       "    <tr>\n",
       "      <th>0</th>\n",
       "      <td>CommunityFiles</td>\n",
       "    </tr>\n",
       "    <tr>\n",
       "      <th>1</th>\n",
       "      <td>v2-naming-types-doc</td>\n",
       "    </tr>\n",
       "    <tr>\n",
       "      <th>2</th>\n",
       "      <td>bug-fix/tests</td>\n",
       "    </tr>\n",
       "    <tr>\n",
       "      <th>3</th>\n",
       "      <td>main</td>\n",
       "    </tr>\n",
       "    <tr>\n",
       "      <th>4</th>\n",
       "      <td>github2pandas-v2.0.0</td>\n",
       "    </tr>\n",
       "  </tbody>\n",
       "</table>\n",
       "</div>"
      ],
      "text/plain": [
       "           branch_names\n",
       "0        CommunityFiles\n",
       "1   v2-naming-types-doc\n",
       "2         bug-fix/tests\n",
       "3                  main\n",
       "4  github2pandas-v2.0.0"
      ]
     },
     "execution_count": 36,
     "metadata": {},
     "output_type": "execute_result"
    }
   ],
   "source": [
    "df_branches"
   ]
  }
 ],
 "metadata": {
  "kernelspec": {
   "display_name": "Python 3 (ipykernel)",
   "language": "python",
   "name": "python3"
  },
  "language_info": {
   "codemirror_mode": {
    "name": "ipython",
    "version": 3
   },
   "file_extension": ".py",
   "mimetype": "text/x-python",
   "name": "python",
   "nbconvert_exporter": "python",
   "pygments_lexer": "ipython3",
   "version": "3.8.10"
  }
 },
 "nbformat": 4,
 "nbformat_minor": 4
}
