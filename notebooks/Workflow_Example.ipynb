{
 "cells": [
  {
   "cell_type": "markdown",
   "metadata": {},
   "source": [
    "# Test Workflow Data Aggregation\n",
    "\n",
    "-----------------------------------------------------------------\n",
    "This example illustrates the aggregation of workflow (actions) data using the `github2pandas` repository. Here, all workflows are read out, filtered and displayed in terms of success or failure. "
   ]
  },
  {
   "cell_type": "code",
   "execution_count": 1,
   "metadata": {},
   "outputs": [],
   "source": [
    "from github2pandas.workflows import Workflows\n",
    "from github2pandas.utility import Utility\n",
    "from pathlib import Path"
   ]
  },
  {
   "cell_type": "markdown",
   "metadata": {},
   "source": [
    "## Basic Usage\n",
    "\n",
    "The most important input parameter is an Repository object from PyGitHub-Package."
   ]
  },
  {
   "cell_type": "code",
   "execution_count": 2,
   "metadata": {},
   "outputs": [],
   "source": [
    "git_repo_name = \"github2pandas\"\n",
    "git_repo_owner = \"TUBAF-IFI-DiPiT\"\n",
    "    \n",
    "default_data_folder = Path(\"data\", git_repo_name)\n",
    "\n",
    "import os\n",
    "github_token = os.environ['TOKEN']\n",
    "# If you do not include your Github Token in .env, its neccessary to integrate it here. \n",
    "# github_token = \"yourToken\"\n",
    "\n",
    "repo = Utility.get_repo(git_repo_owner, git_repo_name, github_token, default_data_folder)"
   ]
  },
  {
   "cell_type": "markdown",
   "metadata": {},
   "source": [
    "The code snipet generates a raw data set based on repo information. The pandas Dataframe includes author´s information, timestamp and the general result of the workflow run. "
   ]
  },
  {
   "cell_type": "code",
   "execution_count": 3,
   "metadata": {},
   "outputs": [],
   "source": [
    "Workflows.generate_workflow_pandas_tables(repo=repo, data_root_dir=default_data_folder)"
   ]
  },
  {
   "cell_type": "code",
   "execution_count": 4,
   "metadata": {},
   "outputs": [
    {
     "data": {
      "text/html": [
       "<div>\n",
       "<style scoped>\n",
       "    .dataframe tbody tr th:only-of-type {\n",
       "        vertical-align: middle;\n",
       "    }\n",
       "\n",
       "    .dataframe tbody tr th {\n",
       "        vertical-align: top;\n",
       "    }\n",
       "\n",
       "    .dataframe thead th {\n",
       "        text-align: right;\n",
       "    }\n",
       "</style>\n",
       "<table border=\"1\" class=\"dataframe\">\n",
       "  <thead>\n",
       "    <tr style=\"text-align: right;\">\n",
       "      <th></th>\n",
       "      <th>id</th>\n",
       "      <th>name</th>\n",
       "      <th>created_at</th>\n",
       "      <th>updated_at</th>\n",
       "      <th>state</th>\n",
       "    </tr>\n",
       "  </thead>\n",
       "  <tbody>\n",
       "    <tr>\n",
       "      <th>0</th>\n",
       "      <td>6245620</td>\n",
       "      <td>RunTests</td>\n",
       "      <td>2021-02-28 17:31:08</td>\n",
       "      <td>2021-03-08 08:26:16</td>\n",
       "      <td>active</td>\n",
       "    </tr>\n",
       "  </tbody>\n",
       "</table>\n",
       "</div>"
      ],
      "text/plain": [
       "        id      name          created_at          updated_at   state\n",
       "0  6245620  RunTests 2021-02-28 17:31:08 2021-03-08 08:26:16  active"
      ]
     },
     "execution_count": 4,
     "metadata": {},
     "output_type": "execute_result"
    }
   ],
   "source": [
    "pd_workflow = Workflows.get_workflows(data_root_dir=default_data_folder)\n",
    "pd_workflow.head(5)"
   ]
  },
  {
   "cell_type": "code",
   "execution_count": 5,
   "metadata": {},
   "outputs": [
    {
     "data": {
      "text/html": [
       "<div>\n",
       "<style scoped>\n",
       "    .dataframe tbody tr th:only-of-type {\n",
       "        vertical-align: middle;\n",
       "    }\n",
       "\n",
       "    .dataframe tbody tr th {\n",
       "        vertical-align: top;\n",
       "    }\n",
       "\n",
       "    .dataframe thead th {\n",
       "        text-align: right;\n",
       "    }\n",
       "</style>\n",
       "<table border=\"1\" class=\"dataframe\">\n",
       "  <thead>\n",
       "    <tr style=\"text-align: right;\">\n",
       "      <th></th>\n",
       "      <th>workflow_id</th>\n",
       "      <th>id</th>\n",
       "      <th>commit_sha</th>\n",
       "      <th>pull_requests</th>\n",
       "      <th>state</th>\n",
       "      <th>event</th>\n",
       "      <th>conclusion</th>\n",
       "      <th>created_at</th>\n",
       "      <th>updated_at</th>\n",
       "      <th>author</th>\n",
       "    </tr>\n",
       "  </thead>\n",
       "  <tbody>\n",
       "    <tr>\n",
       "      <th>0</th>\n",
       "      <td>6245620</td>\n",
       "      <td>997856275</td>\n",
       "      <td>08ca31c143d22d4c3663b443caf988b32ee68218</td>\n",
       "      <td>[]</td>\n",
       "      <td>completed</td>\n",
       "      <td>push</td>\n",
       "      <td>success</td>\n",
       "      <td>2021-07-04 06:36:01</td>\n",
       "      <td>2021-07-04 06:45:26</td>\n",
       "      <td>can-expect-late-month</td>\n",
       "    </tr>\n",
       "    <tr>\n",
       "      <th>1</th>\n",
       "      <td>6245620</td>\n",
       "      <td>885388577</td>\n",
       "      <td>44d147e140cdf4bb0262109b2eb96c499384d1b5</td>\n",
       "      <td>[]</td>\n",
       "      <td>completed</td>\n",
       "      <td>push</td>\n",
       "      <td>success</td>\n",
       "      <td>2021-05-28 11:16:29</td>\n",
       "      <td>2021-05-28 11:26:26</td>\n",
       "      <td>love-go-past-name</td>\n",
       "    </tr>\n",
       "    <tr>\n",
       "      <th>2</th>\n",
       "      <td>6245620</td>\n",
       "      <td>884730186</td>\n",
       "      <td>6e42bf6e583982485a9cbf68f5f5497f40e7a767</td>\n",
       "      <td>[]</td>\n",
       "      <td>completed</td>\n",
       "      <td>push</td>\n",
       "      <td>success</td>\n",
       "      <td>2021-05-28 07:04:30</td>\n",
       "      <td>2021-05-28 07:13:28</td>\n",
       "      <td>love-go-past-name</td>\n",
       "    </tr>\n",
       "    <tr>\n",
       "      <th>3</th>\n",
       "      <td>6245620</td>\n",
       "      <td>884702754</td>\n",
       "      <td>7005d33061e0ee598571a107512a48205ca2b1c1</td>\n",
       "      <td>[]</td>\n",
       "      <td>completed</td>\n",
       "      <td>push</td>\n",
       "      <td>success</td>\n",
       "      <td>2021-05-28 06:53:52</td>\n",
       "      <td>2021-05-28 07:04:09</td>\n",
       "      <td>love-go-past-name</td>\n",
       "    </tr>\n",
       "    <tr>\n",
       "      <th>4</th>\n",
       "      <td>6245620</td>\n",
       "      <td>882590230</td>\n",
       "      <td>2f1b2b5f59d89af09610595582163752bfe964f6</td>\n",
       "      <td>[]</td>\n",
       "      <td>completed</td>\n",
       "      <td>push</td>\n",
       "      <td>success</td>\n",
       "      <td>2021-05-27 14:56:49</td>\n",
       "      <td>2021-05-27 15:06:25</td>\n",
       "      <td>love-go-past-name</td>\n",
       "    </tr>\n",
       "  </tbody>\n",
       "</table>\n",
       "</div>"
      ],
      "text/plain": [
       "   workflow_id         id                                commit_sha  \\\n",
       "0      6245620  997856275  08ca31c143d22d4c3663b443caf988b32ee68218   \n",
       "1      6245620  885388577  44d147e140cdf4bb0262109b2eb96c499384d1b5   \n",
       "2      6245620  884730186  6e42bf6e583982485a9cbf68f5f5497f40e7a767   \n",
       "3      6245620  884702754  7005d33061e0ee598571a107512a48205ca2b1c1   \n",
       "4      6245620  882590230  2f1b2b5f59d89af09610595582163752bfe964f6   \n",
       "\n",
       "  pull_requests      state event conclusion          created_at  \\\n",
       "0            []  completed  push    success 2021-07-04 06:36:01   \n",
       "1            []  completed  push    success 2021-05-28 11:16:29   \n",
       "2            []  completed  push    success 2021-05-28 07:04:30   \n",
       "3            []  completed  push    success 2021-05-28 06:53:52   \n",
       "4            []  completed  push    success 2021-05-27 14:56:49   \n",
       "\n",
       "           updated_at                 author  \n",
       "0 2021-07-04 06:45:26  can-expect-late-month  \n",
       "1 2021-05-28 11:26:26      love-go-past-name  \n",
       "2 2021-05-28 07:13:28      love-go-past-name  \n",
       "3 2021-05-28 07:04:09      love-go-past-name  \n",
       "4 2021-05-27 15:06:25      love-go-past-name  "
      ]
     },
     "execution_count": 5,
     "metadata": {},
     "output_type": "execute_result"
    }
   ],
   "source": [
    "pd_run = Workflows.get_workflows(data_root_dir=default_data_folder, filename = Workflows.WORKFLOWS_RUNS)\n",
    "pd_run.head(5)\n"
   ]
  },
  {
   "cell_type": "markdown",
   "metadata": {},
   "source": [
    "## Get workflow run logs\n",
    "What happens during the workflow run. Let's take a closer view on log files of a specific Action run."
   ]
  },
  {
   "cell_type": "code",
   "execution_count": 6,
   "metadata": {},
   "outputs": [],
   "source": [
    "Workflows.download_workflow_log_files(repo=repo,\n",
    "                                  github_token=github_token,\n",
    "                                  workflow_run_id=642018321,\n",
    "                                  data_root_dir=default_data_folder)"
   ]
  },
  {
   "cell_type": "code",
   "execution_count": null,
   "metadata": {},
   "outputs": [],
   "source": []
  }
 ],
 "metadata": {
  "kernelspec": {
   "display_name": "Python 3 (ipykernel)",
   "language": "python",
   "name": "python3"
  },
  "language_info": {
   "codemirror_mode": {
    "name": "ipython",
    "version": 3
   },
   "file_extension": ".py",
   "mimetype": "text/x-python",
   "name": "python",
   "nbconvert_exporter": "python",
   "pygments_lexer": "ipython3",
   "version": "3.8.5"
  }
 },
 "nbformat": 4,
 "nbformat_minor": 4
}
